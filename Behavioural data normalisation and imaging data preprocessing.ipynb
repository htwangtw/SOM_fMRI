{
 "cells": [
  {
   "cell_type": "markdown",
   "metadata": {},
   "source": [
    "# Data normalisation pipeline\n"
   ]
  },
  {
   "cell_type": "code",
   "execution_count": 67,
   "metadata": {
    "collapsed": false
   },
   "outputs": [],
   "source": [
    "import pandas as pd\n",
    "import numpy as np\n",
    "import joblib\n",
    "import os\n",
    "\n",
    "behavData = 'C:\\\\Users\\\\Hao-Ting\\\\Documents\\\\Work\\\\Project_CCA\\\\sourcedata\\\\CS_MWQafterRS.csv'\n",
    "data = np.genfromtxt(behavData, delimiter=',')[1:,2:]\n",
    "labels = (pd.read_csv(behavData).columns).tolist()[2:]"
   ]
  },
  {
   "cell_type": "code",
   "execution_count": 38,
   "metadata": {
    "collapsed": false
   },
   "outputs": [
    {
     "name": "stdout",
     "output_type": "stream",
     "text": [
      "['Future', 'Past', 'Self', 'Other', 'Pos', 'Neg', 'Words', 'Images', 'Evolving', 'Habit', 'Detailed', 'Vivid', 'Deliberate', 'Spontaneous', 'Abstract', 'Creative', 'Decoupling', 'Important', 'Intrusive', 'Problem', 'Realistic', 'Stop', 'Thematic', 'HereNow', 'TemporalDistance']\n"
     ]
    }
   ],
   "source": [
    "print labels"
   ]
  },
  {
   "cell_type": "code",
   "execution_count": 68,
   "metadata": {
    "collapsed": false
   },
   "outputs": [],
   "source": [
    "excludeIdx = []\n",
    "\n",
    "#exclde cases with more than 20 nan\n",
    "excludeIdx = []\n",
    "for i in range(data.shape[0]):\n",
    "    n = np.count_nonzero(np.isnan(data)[i])\n",
    "    if n>20:\n",
    "        excludeIdx.append(i)\n",
    "\n",
    "excludeIdx = np.array(excludeIdx)\n",
    "#exclude the participants\n",
    "x = np.delete(data, excludeIdx, 0)\n",
    "data = x[:,:]"
   ]
  },
  {
   "cell_type": "code",
   "execution_count": 71,
   "metadata": {
    "collapsed": false
   },
   "outputs": [
    {
     "name": "stdout",
     "output_type": "stream",
     "text": [
      "[121]\n",
      "(164L, 25L)\n"
     ]
    }
   ],
   "source": [
    "print excludeIdx\n",
    "print data.shape"
   ]
  },
  {
   "cell_type": "code",
   "execution_count": 70,
   "metadata": {
    "collapsed": false
   },
   "outputs": [],
   "source": [
    "S = data.sum(axis=0) / data.shape[0]\n",
    "data -= S[np.newaxis, :]\n",
    "var = (data ** 2).sum(axis=0)\n",
    "var[var == 0] = 1\n",
    "data /= var"
   ]
  },
  {
   "cell_type": "code",
   "execution_count": 72,
   "metadata": {
    "collapsed": false
   },
   "outputs": [],
   "source": [
    "np.save('MWQ_afterRS_zscore_exludeNaN_ind22', data) #save for later"
   ]
  },
  {
   "cell_type": "code",
   "execution_count": 106,
   "metadata": {
    "collapsed": true
   },
   "outputs": [],
   "source": [
    "import glob, os, sys\n",
    "import numpy as np\n",
    "from nilearn.image import resample_img, index_img\n",
    "import nibabel as nib\n",
    "from nilearn.input_data import NiftiLabelsMasker\n",
    "\n",
    "roiLabel = 'C:\\\\Users\\\\Hao-Ting\\\\Documents\\\\Work\\\\tcorr05_2level_all.nii.gz'\n",
    "all_label_atlas_nii = nib.load(roiLabel)"
   ]
  },
  {
   "cell_type": "markdown",
   "metadata": {},
   "source": [
    "## Get the mask I need from a set of atals selections\n"
   ]
  },
  {
   "cell_type": "code",
   "execution_count": 129,
   "metadata": {
    "collapsed": false
   },
   "outputs": [
    {
     "name": "stdout",
     "output_type": "stream",
     "text": [
      "(47L, 56L, 46L)\n",
      "[[  -4.    0.    0.   92.]\n",
      " [   0.    4.    0. -128.]\n",
      " [   0.    0.    4.  -72.]\n",
      " [   0.    0.    0.    1.]]\n",
      "0\n",
      "90\n"
     ]
    }
   ],
   "source": [
    "label_atlas = all_label_atlas_nii.get_data()[..., 8] \n",
    "type(label_atlas)\n",
    "print label_atlas.shape\n",
    "print all_label_atlas_nii.get_qform()\n",
    "print np.min(label_atlas)\n",
    "print np.max(label_atlas)\n",
    "TEMP_rois = nib.Nifti1Image(\n",
    "            label_atlas,\n",
    "            affine=all_label_atlas_nii.get_qform(),\n",
    "            header=all_label_atlas_nii.get_header(),\n",
    "        )"
   ]
  },
  {
   "cell_type": "markdown",
   "metadata": {},
   "source": [
    "## Get the spatial information of my scanning data\n"
   ]
  },
  {
   "cell_type": "code",
   "execution_count": 130,
   "metadata": {
    "collapsed": false
   },
   "outputs": [
    {
     "name": "stdout",
     "output_type": "stream",
     "text": [
      "[[  -2.    0.    0.   90.]\n",
      " [   0.    2.    0. -126.]\n",
      " [   0.    0.    2.  -72.]\n",
      " [   0.    0.    0.    1.]]\n",
      "(91, 109, 91, 180)\n"
     ]
    }
   ],
   "source": [
    "rs_niis = sorted(glob.glob('D:\\\\CS_brain_preprocessed' + os.sep + '*.nii.gz')) #windows\n",
    "tmp_nii_path = rs_niis[0]\n",
    "tmp_nii = nib.load(tmp_nii_path)\n",
    "print tmp_nii.get_qform()\n",
    "print tmp_nii.shape"
   ]
  },
  {
   "cell_type": "markdown",
   "metadata": {},
   "source": [
    "## Resample the ROI mask"
   ]
  },
  {
   "cell_type": "code",
   "execution_count": 131,
   "metadata": {
    "collapsed": false
   },
   "outputs": [],
   "source": [
    "re_rois = resample_img(\n",
    "            img=TEMP_rois,\n",
    "            target_affine=tmp_nii.get_affine(),\n",
    "            target_shape=tmp_nii.shape[:3],\n",
    "            interpolation='nearest')\n",
    "# nib.save(re_rois, 'craddock2011_90_ROI') #save for later"
   ]
  },
  {
   "cell_type": "code",
   "execution_count": 132,
   "metadata": {
    "collapsed": false
   },
   "outputs": [
    {
     "data": {
      "text/plain": [
       "NiftiLabelsMasker(background_label=0, detrend=False, high_pass=None,\n",
       "         labels_img=<nibabel.nifti1.Nifti1Image object at 0x00000000088309E8>,\n",
       "         low_pass=None, mask_img=None, memory='nilearn_cache',\n",
       "         memory_level=1, resampling_target='data', smoothing_fwhm=None,\n",
       "         standardize=True, t_r=None, verbose=0)"
      ]
     },
     "execution_count": 132,
     "metadata": {},
     "output_type": "execute_result"
    }
   ],
   "source": [
    "masker = NiftiLabelsMasker(labels_img=re_rois, standardize=True,\n",
    "                           memory='nilearn_cache', verbose=0)\n",
    "masker.fit()"
   ]
  },
  {
   "cell_type": "code",
   "execution_count": 134,
   "metadata": {
    "collapsed": false
   },
   "outputs": [
    {
     "data": {
      "text/plain": [
       "760"
      ]
     },
     "execution_count": 134,
     "metadata": {},
     "output_type": "execute_result"
    }
   ],
   "source": [
    "40**2/2-40"
   ]
  },
  {
   "cell_type": "code",
   "execution_count": null,
   "metadata": {
    "collapsed": true
   },
   "outputs": [],
   "source": [
    "for i_rs_img, rs_img in enumerate(rs_niis):\n",
    "    print('%i/%i: %s' % (i_rs_img + 1, len(rs_niis), rs_img))\n",
    "    rs_reg_ts = masker.transform(rs_img)\n",
    "    corr_mat = np.corrcoef(rs_reg_ts.T)\n",
    "    triu_inds = np.triu_indices(corr_mat.shape[0], 1)\n",
    "    corr_mat_vect = corr_mat[triu_inds]\n",
    "    # save for later\n",
    "    corr_mat_vect_list.append(corr_mat_vect)\n",
    "corr_mat_vect_array = np.array(corr_mat_vect_list)\n",
    "print(corr_mat_vect_array.shape) "
   ]
  }
 ],
 "metadata": {
  "kernelspec": {
   "display_name": "Python [Root]",
   "language": "python",
   "name": "Python [Root]"
  },
  "language_info": {
   "codemirror_mode": {
    "name": "ipython",
    "version": 2
   },
   "file_extension": ".py",
   "mimetype": "text/x-python",
   "name": "python",
   "nbconvert_exporter": "python",
   "pygments_lexer": "ipython2",
   "version": "2.7.12"
  }
 },
 "nbformat": 4,
 "nbformat_minor": 0
}
